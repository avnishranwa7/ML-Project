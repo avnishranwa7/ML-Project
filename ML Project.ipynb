{
 "cells": [
  {
   "cell_type": "code",
   "execution_count": 1,
   "metadata": {},
   "outputs": [],
   "source": [
    "import pandas as pd"
   ]
  },
  {
   "cell_type": "code",
   "execution_count": 2,
   "metadata": {},
   "outputs": [
    {
     "data": {
      "text/html": [
       "<div>\n",
       "<style scoped>\n",
       "    .dataframe tbody tr th:only-of-type {\n",
       "        vertical-align: middle;\n",
       "    }\n",
       "\n",
       "    .dataframe tbody tr th {\n",
       "        vertical-align: top;\n",
       "    }\n",
       "\n",
       "    .dataframe thead th {\n",
       "        text-align: right;\n",
       "    }\n",
       "</style>\n",
       "<table border=\"1\" class=\"dataframe\">\n",
       "  <thead>\n",
       "    <tr style=\"text-align: right;\">\n",
       "      <th></th>\n",
       "      <th>year</th>\n",
       "      <th>day-number</th>\n",
       "      <th>date</th>\n",
       "      <th>ajmer-ajmer</th>\n",
       "      <th>arain-ajmer</th>\n",
       "      <th>beawar-ajmer</th>\n",
       "      <th>bhinai-ajmer</th>\n",
       "      <th>gegal-ajmer</th>\n",
       "      <th>goela-ajmer</th>\n",
       "      <th>jawaja-ajmer</th>\n",
       "      <th>...</th>\n",
       "      <th>gogunda-udaipur</th>\n",
       "      <th>jhadol-udaipur</th>\n",
       "      <th>kherwara-udaipur</th>\n",
       "      <th>kotra-udaipur</th>\n",
       "      <th>mavli-udaipur</th>\n",
       "      <th>salumber-udaipur</th>\n",
       "      <th>sarara-udaipur</th>\n",
       "      <th>udaipur ( girwa )-udaipur</th>\n",
       "      <th>vallabh nagar-udaipur</th>\n",
       "      <th>dhariawad-udaipur</th>\n",
       "    </tr>\n",
       "  </thead>\n",
       "  <tbody>\n",
       "    <tr>\n",
       "      <th>0</th>\n",
       "      <td>1957</td>\n",
       "      <td>1</td>\n",
       "      <td>1957-01-01</td>\n",
       "      <td>0.0</td>\n",
       "      <td>0.0</td>\n",
       "      <td>0.0</td>\n",
       "      <td>0.0</td>\n",
       "      <td>0.0</td>\n",
       "      <td>0.0</td>\n",
       "      <td>0.0</td>\n",
       "      <td>...</td>\n",
       "      <td>0.0</td>\n",
       "      <td>-1.0</td>\n",
       "      <td>0.0</td>\n",
       "      <td>0.0</td>\n",
       "      <td>0.0</td>\n",
       "      <td>0.0</td>\n",
       "      <td>0.0</td>\n",
       "      <td>-1.0</td>\n",
       "      <td>0.0</td>\n",
       "      <td>-1.0</td>\n",
       "    </tr>\n",
       "    <tr>\n",
       "      <th>1</th>\n",
       "      <td>1957</td>\n",
       "      <td>2</td>\n",
       "      <td>1957-01-02</td>\n",
       "      <td>0.0</td>\n",
       "      <td>0.0</td>\n",
       "      <td>0.0</td>\n",
       "      <td>0.0</td>\n",
       "      <td>0.0</td>\n",
       "      <td>0.0</td>\n",
       "      <td>0.0</td>\n",
       "      <td>...</td>\n",
       "      <td>0.0</td>\n",
       "      <td>-1.0</td>\n",
       "      <td>0.0</td>\n",
       "      <td>0.0</td>\n",
       "      <td>0.0</td>\n",
       "      <td>0.0</td>\n",
       "      <td>0.0</td>\n",
       "      <td>-1.0</td>\n",
       "      <td>0.0</td>\n",
       "      <td>-1.0</td>\n",
       "    </tr>\n",
       "    <tr>\n",
       "      <th>2</th>\n",
       "      <td>1957</td>\n",
       "      <td>3</td>\n",
       "      <td>1957-01-03</td>\n",
       "      <td>0.0</td>\n",
       "      <td>0.0</td>\n",
       "      <td>0.0</td>\n",
       "      <td>0.0</td>\n",
       "      <td>0.0</td>\n",
       "      <td>0.0</td>\n",
       "      <td>0.0</td>\n",
       "      <td>...</td>\n",
       "      <td>0.0</td>\n",
       "      <td>-1.0</td>\n",
       "      <td>0.0</td>\n",
       "      <td>0.0</td>\n",
       "      <td>0.0</td>\n",
       "      <td>0.0</td>\n",
       "      <td>0.0</td>\n",
       "      <td>-1.0</td>\n",
       "      <td>0.0</td>\n",
       "      <td>-1.0</td>\n",
       "    </tr>\n",
       "    <tr>\n",
       "      <th>3</th>\n",
       "      <td>1957</td>\n",
       "      <td>4</td>\n",
       "      <td>1957-01-04</td>\n",
       "      <td>0.0</td>\n",
       "      <td>0.0</td>\n",
       "      <td>0.0</td>\n",
       "      <td>0.0</td>\n",
       "      <td>0.0</td>\n",
       "      <td>0.0</td>\n",
       "      <td>0.0</td>\n",
       "      <td>...</td>\n",
       "      <td>0.0</td>\n",
       "      <td>-1.0</td>\n",
       "      <td>0.0</td>\n",
       "      <td>0.0</td>\n",
       "      <td>0.0</td>\n",
       "      <td>0.0</td>\n",
       "      <td>0.0</td>\n",
       "      <td>-1.0</td>\n",
       "      <td>0.0</td>\n",
       "      <td>-1.0</td>\n",
       "    </tr>\n",
       "    <tr>\n",
       "      <th>4</th>\n",
       "      <td>1957</td>\n",
       "      <td>5</td>\n",
       "      <td>1957-01-05</td>\n",
       "      <td>0.0</td>\n",
       "      <td>0.0</td>\n",
       "      <td>0.0</td>\n",
       "      <td>0.0</td>\n",
       "      <td>0.0</td>\n",
       "      <td>0.0</td>\n",
       "      <td>0.0</td>\n",
       "      <td>...</td>\n",
       "      <td>0.0</td>\n",
       "      <td>-1.0</td>\n",
       "      <td>0.0</td>\n",
       "      <td>0.0</td>\n",
       "      <td>0.0</td>\n",
       "      <td>0.0</td>\n",
       "      <td>0.0</td>\n",
       "      <td>-1.0</td>\n",
       "      <td>0.0</td>\n",
       "      <td>-1.0</td>\n",
       "    </tr>\n",
       "  </tbody>\n",
       "</table>\n",
       "<p>5 rows × 263 columns</p>\n",
       "</div>"
      ],
      "text/plain": [
       "   year  day-number        date  ajmer-ajmer  arain-ajmer  beawar-ajmer  \\\n",
       "0  1957           1  1957-01-01          0.0          0.0           0.0   \n",
       "1  1957           2  1957-01-02          0.0          0.0           0.0   \n",
       "2  1957           3  1957-01-03          0.0          0.0           0.0   \n",
       "3  1957           4  1957-01-04          0.0          0.0           0.0   \n",
       "4  1957           5  1957-01-05          0.0          0.0           0.0   \n",
       "\n",
       "   bhinai-ajmer  gegal-ajmer  goela-ajmer  jawaja-ajmer  ...  gogunda-udaipur  \\\n",
       "0           0.0          0.0          0.0           0.0  ...              0.0   \n",
       "1           0.0          0.0          0.0           0.0  ...              0.0   \n",
       "2           0.0          0.0          0.0           0.0  ...              0.0   \n",
       "3           0.0          0.0          0.0           0.0  ...              0.0   \n",
       "4           0.0          0.0          0.0           0.0  ...              0.0   \n",
       "\n",
       "   jhadol-udaipur  kherwara-udaipur  kotra-udaipur  mavli-udaipur  \\\n",
       "0            -1.0               0.0            0.0            0.0   \n",
       "1            -1.0               0.0            0.0            0.0   \n",
       "2            -1.0               0.0            0.0            0.0   \n",
       "3            -1.0               0.0            0.0            0.0   \n",
       "4            -1.0               0.0            0.0            0.0   \n",
       "\n",
       "   salumber-udaipur  sarara-udaipur  udaipur ( girwa )-udaipur  \\\n",
       "0               0.0             0.0                       -1.0   \n",
       "1               0.0             0.0                       -1.0   \n",
       "2               0.0             0.0                       -1.0   \n",
       "3               0.0             0.0                       -1.0   \n",
       "4               0.0             0.0                       -1.0   \n",
       "\n",
       "   vallabh nagar-udaipur  dhariawad-udaipur  \n",
       "0                    0.0               -1.0  \n",
       "1                    0.0               -1.0  \n",
       "2                    0.0               -1.0  \n",
       "3                    0.0               -1.0  \n",
       "4                    0.0               -1.0  \n",
       "\n",
       "[5 rows x 263 columns]"
      ]
     },
     "execution_count": 2,
     "metadata": {},
     "output_type": "execute_result"
    }
   ],
   "source": [
    "df = pd.read_csv(\"rainfall-data-final-sub.csv\")\n",
    "df.head()"
   ]
  },
  {
   "cell_type": "code",
   "execution_count": 3,
   "metadata": {},
   "outputs": [
    {
     "data": {
      "text/plain": [
       "(20454, 263)"
      ]
     },
     "execution_count": 3,
     "metadata": {},
     "output_type": "execute_result"
    }
   ],
   "source": [
    "df.shape"
   ]
  },
  {
   "cell_type": "code",
   "execution_count": 4,
   "metadata": {},
   "outputs": [],
   "source": [
    "df1 = pd.read_csv(\"rainfall-districts.csv\")"
   ]
  },
  {
   "cell_type": "code",
   "execution_count": 5,
   "metadata": {},
   "outputs": [
    {
     "data": {
      "text/html": [
       "<div>\n",
       "<style scoped>\n",
       "    .dataframe tbody tr th:only-of-type {\n",
       "        vertical-align: middle;\n",
       "    }\n",
       "\n",
       "    .dataframe tbody tr th {\n",
       "        vertical-align: top;\n",
       "    }\n",
       "\n",
       "    .dataframe thead th {\n",
       "        text-align: right;\n",
       "    }\n",
       "</style>\n",
       "<table border=\"1\" class=\"dataframe\">\n",
       "  <thead>\n",
       "    <tr style=\"text-align: right;\">\n",
       "      <th></th>\n",
       "      <th>year</th>\n",
       "      <th>day-number</th>\n",
       "      <th>date</th>\n",
       "      <th>ajmer</th>\n",
       "      <th>alwar</th>\n",
       "      <th>banswara</th>\n",
       "      <th>baran</th>\n",
       "      <th>barmer</th>\n",
       "      <th>bharatpur</th>\n",
       "      <th>bhilwara</th>\n",
       "      <th>...</th>\n",
       "      <th>nagaur</th>\n",
       "      <th>pali</th>\n",
       "      <th>pratapgarh</th>\n",
       "      <th>rajsamand</th>\n",
       "      <th>sawai madhopur</th>\n",
       "      <th>sikar</th>\n",
       "      <th>sirohi</th>\n",
       "      <th>ganganagar</th>\n",
       "      <th>tonk</th>\n",
       "      <th>udaipur</th>\n",
       "    </tr>\n",
       "  </thead>\n",
       "  <tbody>\n",
       "    <tr>\n",
       "      <th>0</th>\n",
       "      <td>1957</td>\n",
       "      <td>1</td>\n",
       "      <td>1957-01-01</td>\n",
       "      <td>0.0</td>\n",
       "      <td>0.0</td>\n",
       "      <td>0.0</td>\n",
       "      <td>NaN</td>\n",
       "      <td>0.0</td>\n",
       "      <td>0.0</td>\n",
       "      <td>0.0</td>\n",
       "      <td>...</td>\n",
       "      <td>0.0</td>\n",
       "      <td>0.0</td>\n",
       "      <td>NaN</td>\n",
       "      <td>NaN</td>\n",
       "      <td>0.0</td>\n",
       "      <td>0.0</td>\n",
       "      <td>0.0</td>\n",
       "      <td>0.0</td>\n",
       "      <td>0.0</td>\n",
       "      <td>0.0</td>\n",
       "    </tr>\n",
       "    <tr>\n",
       "      <th>1</th>\n",
       "      <td>1957</td>\n",
       "      <td>2</td>\n",
       "      <td>1957-01-02</td>\n",
       "      <td>0.0</td>\n",
       "      <td>0.0</td>\n",
       "      <td>0.0</td>\n",
       "      <td>NaN</td>\n",
       "      <td>0.0</td>\n",
       "      <td>0.0</td>\n",
       "      <td>0.0</td>\n",
       "      <td>...</td>\n",
       "      <td>0.0</td>\n",
       "      <td>0.0</td>\n",
       "      <td>NaN</td>\n",
       "      <td>NaN</td>\n",
       "      <td>0.0</td>\n",
       "      <td>0.0</td>\n",
       "      <td>0.0</td>\n",
       "      <td>0.0</td>\n",
       "      <td>0.0</td>\n",
       "      <td>0.0</td>\n",
       "    </tr>\n",
       "    <tr>\n",
       "      <th>2</th>\n",
       "      <td>1957</td>\n",
       "      <td>3</td>\n",
       "      <td>1957-01-03</td>\n",
       "      <td>0.0</td>\n",
       "      <td>0.0</td>\n",
       "      <td>0.0</td>\n",
       "      <td>NaN</td>\n",
       "      <td>0.0</td>\n",
       "      <td>0.0</td>\n",
       "      <td>0.0</td>\n",
       "      <td>...</td>\n",
       "      <td>0.0</td>\n",
       "      <td>0.0</td>\n",
       "      <td>NaN</td>\n",
       "      <td>NaN</td>\n",
       "      <td>0.0</td>\n",
       "      <td>0.0</td>\n",
       "      <td>0.0</td>\n",
       "      <td>0.0</td>\n",
       "      <td>0.0</td>\n",
       "      <td>0.0</td>\n",
       "    </tr>\n",
       "    <tr>\n",
       "      <th>3</th>\n",
       "      <td>1957</td>\n",
       "      <td>4</td>\n",
       "      <td>1957-01-04</td>\n",
       "      <td>0.0</td>\n",
       "      <td>0.0</td>\n",
       "      <td>0.0</td>\n",
       "      <td>NaN</td>\n",
       "      <td>0.0</td>\n",
       "      <td>0.0</td>\n",
       "      <td>0.0</td>\n",
       "      <td>...</td>\n",
       "      <td>0.0</td>\n",
       "      <td>0.0</td>\n",
       "      <td>NaN</td>\n",
       "      <td>NaN</td>\n",
       "      <td>0.0</td>\n",
       "      <td>0.0</td>\n",
       "      <td>0.0</td>\n",
       "      <td>0.0</td>\n",
       "      <td>0.0</td>\n",
       "      <td>0.0</td>\n",
       "    </tr>\n",
       "    <tr>\n",
       "      <th>4</th>\n",
       "      <td>1957</td>\n",
       "      <td>5</td>\n",
       "      <td>1957-01-05</td>\n",
       "      <td>0.0</td>\n",
       "      <td>0.0</td>\n",
       "      <td>0.0</td>\n",
       "      <td>NaN</td>\n",
       "      <td>0.0</td>\n",
       "      <td>0.0</td>\n",
       "      <td>0.0</td>\n",
       "      <td>...</td>\n",
       "      <td>0.0</td>\n",
       "      <td>0.0</td>\n",
       "      <td>NaN</td>\n",
       "      <td>NaN</td>\n",
       "      <td>0.0</td>\n",
       "      <td>0.0</td>\n",
       "      <td>0.0</td>\n",
       "      <td>0.0</td>\n",
       "      <td>0.0</td>\n",
       "      <td>0.0</td>\n",
       "    </tr>\n",
       "  </tbody>\n",
       "</table>\n",
       "<p>5 rows × 35 columns</p>\n",
       "</div>"
      ],
      "text/plain": [
       "   year  day-number        date  ajmer  alwar  banswara  baran  barmer  \\\n",
       "0  1957           1  1957-01-01    0.0    0.0       0.0    NaN     0.0   \n",
       "1  1957           2  1957-01-02    0.0    0.0       0.0    NaN     0.0   \n",
       "2  1957           3  1957-01-03    0.0    0.0       0.0    NaN     0.0   \n",
       "3  1957           4  1957-01-04    0.0    0.0       0.0    NaN     0.0   \n",
       "4  1957           5  1957-01-05    0.0    0.0       0.0    NaN     0.0   \n",
       "\n",
       "   bharatpur  bhilwara  ...  nagaur  pali  pratapgarh  rajsamand  \\\n",
       "0        0.0       0.0  ...     0.0   0.0         NaN        NaN   \n",
       "1        0.0       0.0  ...     0.0   0.0         NaN        NaN   \n",
       "2        0.0       0.0  ...     0.0   0.0         NaN        NaN   \n",
       "3        0.0       0.0  ...     0.0   0.0         NaN        NaN   \n",
       "4        0.0       0.0  ...     0.0   0.0         NaN        NaN   \n",
       "\n",
       "   sawai madhopur  sikar  sirohi  ganganagar  tonk  udaipur  \n",
       "0             0.0    0.0     0.0         0.0   0.0      0.0  \n",
       "1             0.0    0.0     0.0         0.0   0.0      0.0  \n",
       "2             0.0    0.0     0.0         0.0   0.0      0.0  \n",
       "3             0.0    0.0     0.0         0.0   0.0      0.0  \n",
       "4             0.0    0.0     0.0         0.0   0.0      0.0  \n",
       "\n",
       "[5 rows x 35 columns]"
      ]
     },
     "execution_count": 5,
     "metadata": {},
     "output_type": "execute_result"
    }
   ],
   "source": [
    "df1.head()"
   ]
  },
  {
   "cell_type": "code",
   "execution_count": 6,
   "metadata": {},
   "outputs": [
    {
     "data": {
      "text/plain": [
       "(20454, 35)"
      ]
     },
     "execution_count": 6,
     "metadata": {},
     "output_type": "execute_result"
    }
   ],
   "source": [
    "df1.shape"
   ]
  },
  {
   "cell_type": "code",
   "execution_count": 7,
   "metadata": {},
   "outputs": [
    {
     "data": {
      "text/html": [
       "<div>\n",
       "<style scoped>\n",
       "    .dataframe tbody tr th:only-of-type {\n",
       "        vertical-align: middle;\n",
       "    }\n",
       "\n",
       "    .dataframe tbody tr th {\n",
       "        vertical-align: top;\n",
       "    }\n",
       "\n",
       "    .dataframe thead th {\n",
       "        text-align: right;\n",
       "    }\n",
       "</style>\n",
       "<table border=\"1\" class=\"dataframe\">\n",
       "  <thead>\n",
       "    <tr style=\"text-align: right;\">\n",
       "      <th></th>\n",
       "      <th>year</th>\n",
       "      <th>day-number</th>\n",
       "      <th>date</th>\n",
       "      <th>ajmer-ajmer</th>\n",
       "      <th>arain-ajmer</th>\n",
       "      <th>beawar-ajmer</th>\n",
       "      <th>bhinai-ajmer</th>\n",
       "      <th>gegal-ajmer</th>\n",
       "      <th>goela-ajmer</th>\n",
       "      <th>jawaja-ajmer</th>\n",
       "      <th>...</th>\n",
       "      <th>gogunda-udaipur</th>\n",
       "      <th>jhadol-udaipur</th>\n",
       "      <th>kherwara-udaipur</th>\n",
       "      <th>kotra-udaipur</th>\n",
       "      <th>mavli-udaipur</th>\n",
       "      <th>salumber-udaipur</th>\n",
       "      <th>sarara-udaipur</th>\n",
       "      <th>udaipur ( girwa )-udaipur</th>\n",
       "      <th>vallabh nagar-udaipur</th>\n",
       "      <th>dhariawad-udaipur</th>\n",
       "    </tr>\n",
       "  </thead>\n",
       "  <tbody>\n",
       "    <tr>\n",
       "      <th>365</th>\n",
       "      <td>1958</td>\n",
       "      <td>1</td>\n",
       "      <td>1958-01-01</td>\n",
       "      <td>0.0</td>\n",
       "      <td>0.0</td>\n",
       "      <td>0.0</td>\n",
       "      <td>0.0</td>\n",
       "      <td>0.0</td>\n",
       "      <td>0.0</td>\n",
       "      <td>0.0</td>\n",
       "      <td>...</td>\n",
       "      <td>0.0</td>\n",
       "      <td>-1.0</td>\n",
       "      <td>0.0</td>\n",
       "      <td>0.0</td>\n",
       "      <td>0.0</td>\n",
       "      <td>0.0</td>\n",
       "      <td>0.0</td>\n",
       "      <td>-1.0</td>\n",
       "      <td>0.0</td>\n",
       "      <td>-1.0</td>\n",
       "    </tr>\n",
       "  </tbody>\n",
       "</table>\n",
       "<p>1 rows × 263 columns</p>\n",
       "</div>"
      ],
      "text/plain": [
       "     year  day-number        date  ajmer-ajmer  arain-ajmer  beawar-ajmer  \\\n",
       "365  1958           1  1958-01-01          0.0          0.0           0.0   \n",
       "\n",
       "     bhinai-ajmer  gegal-ajmer  goela-ajmer  jawaja-ajmer  ...  \\\n",
       "365           0.0          0.0          0.0           0.0  ...   \n",
       "\n",
       "     gogunda-udaipur  jhadol-udaipur  kherwara-udaipur  kotra-udaipur  \\\n",
       "365              0.0            -1.0               0.0            0.0   \n",
       "\n",
       "     mavli-udaipur  salumber-udaipur  sarara-udaipur  \\\n",
       "365            0.0               0.0             0.0   \n",
       "\n",
       "     udaipur ( girwa )-udaipur  vallabh nagar-udaipur  dhariawad-udaipur  \n",
       "365                       -1.0                    0.0               -1.0  \n",
       "\n",
       "[1 rows x 263 columns]"
      ]
     },
     "execution_count": 7,
     "metadata": {},
     "output_type": "execute_result"
    }
   ],
   "source": [
    "df.loc[df[\"date\"]==\"1958-01-01\"]"
   ]
  },
  {
   "cell_type": "code",
   "execution_count": 8,
   "metadata": {},
   "outputs": [],
   "source": [
    "districts = [\"Ajmer\",\n",
    "\"Alwar\",\n",
    "\"Banswara\",\n",
    "\"Baran\",\n",
    "\"Barmer\",\n",
    "\"Bharatpur\",\n",
    "\"Bhilwara\",\n",
    "\"Bikaner\",\n",
    "\"Bundi\",\n",
    "\"Chittorgarh\",\n",
    "\"Churu\",\n",
    "\"Dausa\",\n",
    "\"Dholpur\",\n",
    "\"Dungarpur\",\n",
    "\"Hanumangarh\",\n",
    "\"Jaipur\",\n",
    "\"Jaisalmer\",\n",
    "\"Jalore\",\n",
    "\"Jhalawar\",\n",
    "\"Jhunjhunu\",\n",
    "\"Jodhpur\",\n",
    "\"Karauli\",\n",
    "\"Kota\",\n",
    "\"Nagaur\",\n",
    "\"Pali\",\n",
    "\"Pratapgarh\",\n",
    "\"Rajsamand\",\n",
    "\"Sawai Madhopur\",\n",
    "\"Sikar\",\n",
    "\"Sirohi\",\n",
    "\"Sri Ganganagar\",\n",
    "\"Tonk\",\n",
    "\"Udaipur\"]"
   ]
  },
  {
   "cell_type": "code",
   "execution_count": 9,
   "metadata": {},
   "outputs": [],
   "source": [
    "df1_districts = df1.drop(['year', 'day-number', 'date'], axis=1)"
   ]
  },
  {
   "cell_type": "code",
   "execution_count": 10,
   "metadata": {},
   "outputs": [],
   "source": [
    "x = set(df1_districts.columns)"
   ]
  },
  {
   "cell_type": "code",
   "execution_count": 11,
   "metadata": {},
   "outputs": [],
   "source": [
    "s = set([i.lower() for i in districts])"
   ]
  },
  {
   "cell_type": "code",
   "execution_count": 12,
   "metadata": {},
   "outputs": [
    {
     "data": {
      "text/plain": [
       "{'ganganagar', 'karoli'}"
      ]
     },
     "execution_count": 12,
     "metadata": {},
     "output_type": "execute_result"
    }
   ],
   "source": [
    "x-s"
   ]
  },
  {
   "cell_type": "code",
   "execution_count": 13,
   "metadata": {},
   "outputs": [
    {
     "data": {
      "text/plain": [
       "{'jhalawar', 'karauli', 'sri ganganagar'}"
      ]
     },
     "execution_count": 13,
     "metadata": {},
     "output_type": "execute_result"
    }
   ],
   "source": [
    "s-x"
   ]
  },
  {
   "cell_type": "code",
   "execution_count": 14,
   "metadata": {},
   "outputs": [],
   "source": [
    "start_year = df1[\"year\"][0]"
   ]
  },
  {
   "cell_type": "code",
   "execution_count": 15,
   "metadata": {},
   "outputs": [],
   "source": [
    "end_year = df1[\"year\"][len(df1[\"year\"])-1]"
   ]
  },
  {
   "cell_type": "code",
   "execution_count": 16,
   "metadata": {},
   "outputs": [],
   "source": [
    "for i in range(start_year, end_year+1):\n",
    "    if i not in df1[\"year\"]:\n",
    "        print(i)"
   ]
  },
  {
   "cell_type": "code",
   "execution_count": 17,
   "metadata": {},
   "outputs": [],
   "source": [
    "from matplotlib import pyplot as plt\n",
    "from skimage import data\n",
    "from skimage.feature import blob_dog, blob_log, blob_doh\n",
    "from math import sqrt\n",
    "from skimage.color import rgb2gray\n",
    "import glob\n",
    "from skimage.io import imread\n",
    "import matplotlib.cm as cm"
   ]
  },
  {
   "cell_type": "code",
   "execution_count": 18,
   "metadata": {},
   "outputs": [
    {
     "data": {
      "image/png": "[encoded data removed]",
      "text/plain": [
       "<Figure size 432x288 with 1 Axes>"
      ]
     },
     "metadata": {
      "needs_background": "light"
     },
     "output_type": "display_data"
    }
   ],
   "source": [
    "example_file = glob.glob(r\"Capture.png\")[0]\n",
    "im = imread(example_file)\n",
    "plt.imshow(im, cmap=cm.gray)\n",
    "plt.show()"
   ]
  },
  {
   "cell_type": "code",
   "execution_count": null,
   "metadata": {},
   "outputs": [],
   "source": []
  },
  {
   "cell_type": "code",
   "execution_count": 100,
   "metadata": {},
   "outputs": [
    {
     "data": {
      "text/html": [
       "<div>\n",
       "<style scoped>\n",
       "    .dataframe tbody tr th:only-of-type {\n",
       "        vertical-align: middle;\n",
       "    }\n",
       "\n",
       "    .dataframe tbody tr th {\n",
       "        vertical-align: top;\n",
       "    }\n",
       "\n",
       "    .dataframe thead th {\n",
       "        text-align: right;\n",
       "    }\n",
       "</style>\n",
       "<table border=\"1\" class=\"dataframe\">\n",
       "  <thead>\n",
       "    <tr style=\"text-align: right;\">\n",
       "      <th></th>\n",
       "      <th>station</th>\n",
       "      <th>catchment</th>\n",
       "      <th>district</th>\n",
       "      <th>lat</th>\n",
       "      <th>lon</th>\n",
       "    </tr>\n",
       "  </thead>\n",
       "  <tbody>\n",
       "    <tr>\n",
       "      <th>0</th>\n",
       "      <td>JALORE</td>\n",
       "      <td>108</td>\n",
       "      <td>JALORE</td>\n",
       "      <td>250 21\" N</td>\n",
       "      <td>720 37\" E</td>\n",
       "    </tr>\n",
       "    <tr>\n",
       "      <th>1</th>\n",
       "      <td>SANCHORE</td>\n",
       "      <td>108</td>\n",
       "      <td>JALORE</td>\n",
       "      <td>240 45\" N</td>\n",
       "      <td>710 46\" E</td>\n",
       "    </tr>\n",
       "    <tr>\n",
       "      <th>2</th>\n",
       "      <td>JASWANTPURA</td>\n",
       "      <td>108</td>\n",
       "      <td>JALORE</td>\n",
       "      <td>240 48\" N</td>\n",
       "      <td>720 28\" E</td>\n",
       "    </tr>\n",
       "    <tr>\n",
       "      <th>3</th>\n",
       "      <td>BHINMAL</td>\n",
       "      <td>108</td>\n",
       "      <td>JALORE</td>\n",
       "      <td>250 01\" N</td>\n",
       "      <td>720 16\" E</td>\n",
       "    </tr>\n",
       "    <tr>\n",
       "      <th>4</th>\n",
       "      <td>AHORE</td>\n",
       "      <td>108</td>\n",
       "      <td>JALORE</td>\n",
       "      <td>250 20\" N</td>\n",
       "      <td>720 45\" E</td>\n",
       "    </tr>\n",
       "    <tr>\n",
       "      <th>...</th>\n",
       "      <td>...</td>\n",
       "      <td>...</td>\n",
       "      <td>...</td>\n",
       "      <td>...</td>\n",
       "      <td>...</td>\n",
       "    </tr>\n",
       "    <tr>\n",
       "      <th>24794</th>\n",
       "      <td>KHETRI</td>\n",
       "      <td>403.0</td>\n",
       "      <td>JHUNJHUNU</td>\n",
       "      <td>280 00\" N</td>\n",
       "      <td>750 48\" E</td>\n",
       "    </tr>\n",
       "    <tr>\n",
       "      <th>24795</th>\n",
       "      <td>UDAIPURWATI</td>\n",
       "      <td>403.0</td>\n",
       "      <td>JHUNJHUNU</td>\n",
       "      <td>270 43\" N</td>\n",
       "      <td>750 29\" E</td>\n",
       "    </tr>\n",
       "    <tr>\n",
       "      <th>24796</th>\n",
       "      <td>NAWALGARH</td>\n",
       "      <td>NaN</td>\n",
       "      <td>JHUNJHUNU</td>\n",
       "      <td>NaN</td>\n",
       "      <td>NaN</td>\n",
       "    </tr>\n",
       "    <tr>\n",
       "      <th>24797</th>\n",
       "      <td>BUHANA</td>\n",
       "      <td>NaN</td>\n",
       "      <td>JHUNJHUNU</td>\n",
       "      <td>NaN</td>\n",
       "      <td>NaN</td>\n",
       "    </tr>\n",
       "    <tr>\n",
       "      <th>24798</th>\n",
       "      <td>MALSESAR</td>\n",
       "      <td>403.0</td>\n",
       "      <td>JHUNJHUNU</td>\n",
       "      <td>NaN</td>\n",
       "      <td>NaN</td>\n",
       "    </tr>\n",
       "  </tbody>\n",
       "</table>\n",
       "<p>24799 rows × 5 columns</p>\n",
       "</div>"
      ],
      "text/plain": [
       "           station catchment   district        lat        lon\n",
       "0           JALORE       108     JALORE  250 21\" N  720 37\" E\n",
       "1         SANCHORE       108     JALORE  240 45\" N  710 46\" E\n",
       "2      JASWANTPURA       108     JALORE  240 48\" N  720 28\" E\n",
       "3          BHINMAL       108     JALORE  250 01\" N  720 16\" E\n",
       "4            AHORE       108     JALORE  250 20\" N  720 45\" E\n",
       "...            ...       ...        ...        ...        ...\n",
       "24794       KHETRI     403.0  JHUNJHUNU  280 00\" N  750 48\" E\n",
       "24795  UDAIPURWATI     403.0  JHUNJHUNU  270 43\" N  750 29\" E\n",
       "24796    NAWALGARH       NaN  JHUNJHUNU        NaN        NaN\n",
       "24797       BUHANA       NaN  JHUNJHUNU        NaN        NaN\n",
       "24798     MALSESAR     403.0  JHUNJHUNU        NaN        NaN\n",
       "\n",
       "[24799 rows x 5 columns]"
      ]
     },
     "execution_count": 100,
     "metadata": {},
     "output_type": "execute_result"
    }
   ],
   "source": [
    "cor"
   ]
  },
  {
   "cell_type": "code",
   "execution_count": 99,
   "metadata": {},
   "outputs": [],
   "source": [
    "cor = pd.read_csv(\"output_details.csv\")"
   ]
  },
  {
   "cell_type": "code",
   "execution_count": 20,
   "metadata": {},
   "outputs": [
    {
     "data": {
      "text/plain": [
       "station         0\n",
       "catchment    5815\n",
       "district     3282\n",
       "lat          6137\n",
       "lon          6082\n",
       "dtype: int64"
      ]
     },
     "execution_count": 20,
     "metadata": {},
     "output_type": "execute_result"
    }
   ],
   "source": [
    "cor.isna().sum()"
   ]
  },
  {
   "cell_type": "code",
   "execution_count": 21,
   "metadata": {},
   "outputs": [
    {
     "data": {
      "text/plain": [
       "1979"
      ]
     },
     "execution_count": 21,
     "metadata": {},
     "output_type": "execute_result"
    }
   ],
   "source": [
    "len(cor[\"station\"].unique())"
   ]
  },
  {
   "cell_type": "code",
   "execution_count": 105,
   "metadata": {},
   "outputs": [],
   "source": [
    "cor = cor.drop_duplicates()"
   ]
  },
  {
   "cell_type": "code",
   "execution_count": 108,
   "metadata": {},
   "outputs": [
    {
     "data": {
      "text/plain": [
       "(2419, 5)"
      ]
     },
     "execution_count": 108,
     "metadata": {},
     "output_type": "execute_result"
    }
   ],
   "source": [
    "cor.shape"
   ]
  },
  {
   "cell_type": "code",
   "execution_count": 107,
   "metadata": {},
   "outputs": [
    {
     "data": {
      "text/html": [
       "<div>\n",
       "<style scoped>\n",
       "    .dataframe tbody tr th:only-of-type {\n",
       "        vertical-align: middle;\n",
       "    }\n",
       "\n",
       "    .dataframe tbody tr th {\n",
       "        vertical-align: top;\n",
       "    }\n",
       "\n",
       "    .dataframe thead th {\n",
       "        text-align: right;\n",
       "    }\n",
       "</style>\n",
       "<table border=\"1\" class=\"dataframe\">\n",
       "  <thead>\n",
       "    <tr style=\"text-align: right;\">\n",
       "      <th></th>\n",
       "      <th>station</th>\n",
       "      <th>catchment</th>\n",
       "      <th>district</th>\n",
       "      <th>lat</th>\n",
       "      <th>lon</th>\n",
       "    </tr>\n",
       "  </thead>\n",
       "  <tbody>\n",
       "    <tr>\n",
       "      <th>0</th>\n",
       "      <td>JALORE</td>\n",
       "      <td>108</td>\n",
       "      <td>JALORE</td>\n",
       "      <td>250 21\" N</td>\n",
       "      <td>720 37\" E</td>\n",
       "    </tr>\n",
       "    <tr>\n",
       "      <th>1</th>\n",
       "      <td>SANCHORE</td>\n",
       "      <td>108</td>\n",
       "      <td>JALORE</td>\n",
       "      <td>240 45\" N</td>\n",
       "      <td>710 46\" E</td>\n",
       "    </tr>\n",
       "    <tr>\n",
       "      <th>2</th>\n",
       "      <td>JASWANTPURA</td>\n",
       "      <td>108</td>\n",
       "      <td>JALORE</td>\n",
       "      <td>240 48\" N</td>\n",
       "      <td>720 28\" E</td>\n",
       "    </tr>\n",
       "    <tr>\n",
       "      <th>3</th>\n",
       "      <td>BHINMAL</td>\n",
       "      <td>108</td>\n",
       "      <td>JALORE</td>\n",
       "      <td>250 01\" N</td>\n",
       "      <td>720 16\" E</td>\n",
       "    </tr>\n",
       "    <tr>\n",
       "      <th>4</th>\n",
       "      <td>AHORE</td>\n",
       "      <td>108</td>\n",
       "      <td>JALORE</td>\n",
       "      <td>250 20\" N</td>\n",
       "      <td>720 45\" E</td>\n",
       "    </tr>\n",
       "    <tr>\n",
       "      <th>...</th>\n",
       "      <td>...</td>\n",
       "      <td>...</td>\n",
       "      <td>...</td>\n",
       "      <td>...</td>\n",
       "      <td>...</td>\n",
       "    </tr>\n",
       "    <tr>\n",
       "      <th>24705</th>\n",
       "      <td>MALSESAR</td>\n",
       "      <td>403.0</td>\n",
       "      <td>JHUNJHUNU</td>\n",
       "      <td>280 20\" N</td>\n",
       "      <td>750 35\" E</td>\n",
       "    </tr>\n",
       "    <tr>\n",
       "      <th>24771</th>\n",
       "      <td>CHIRAWA</td>\n",
       "      <td>403.0</td>\n",
       "      <td>JHUNJHUNU</td>\n",
       "      <td>280 14\" N</td>\n",
       "      <td>750 39\" E</td>\n",
       "    </tr>\n",
       "    <tr>\n",
       "      <th>24772</th>\n",
       "      <td>JHUNJHUNU</td>\n",
       "      <td>403.0</td>\n",
       "      <td>JHUNJHUNU</td>\n",
       "      <td>280 08\" N</td>\n",
       "      <td>750 23\" E</td>\n",
       "    </tr>\n",
       "    <tr>\n",
       "      <th>24773</th>\n",
       "      <td>KHETRI</td>\n",
       "      <td>403.0</td>\n",
       "      <td>JHUNJHUNU</td>\n",
       "      <td>280 00\" N</td>\n",
       "      <td>750 48\" E</td>\n",
       "    </tr>\n",
       "    <tr>\n",
       "      <th>24774</th>\n",
       "      <td>UDAIPURWATI</td>\n",
       "      <td>403.0</td>\n",
       "      <td>JHUNJHUNU</td>\n",
       "      <td>270 43\" N</td>\n",
       "      <td>750 29\" E</td>\n",
       "    </tr>\n",
       "  </tbody>\n",
       "</table>\n",
       "<p>2419 rows × 5 columns</p>\n",
       "</div>"
      ],
      "text/plain": [
       "           station catchment   district        lat        lon\n",
       "0           JALORE       108     JALORE  250 21\" N  720 37\" E\n",
       "1         SANCHORE       108     JALORE  240 45\" N  710 46\" E\n",
       "2      JASWANTPURA       108     JALORE  240 48\" N  720 28\" E\n",
       "3          BHINMAL       108     JALORE  250 01\" N  720 16\" E\n",
       "4            AHORE       108     JALORE  250 20\" N  720 45\" E\n",
       "...            ...       ...        ...        ...        ...\n",
       "24705     MALSESAR     403.0  JHUNJHUNU  280 20\" N  750 35\" E\n",
       "24771      CHIRAWA     403.0  JHUNJHUNU  280 14\" N  750 39\" E\n",
       "24772    JHUNJHUNU     403.0  JHUNJHUNU  280 08\" N  750 23\" E\n",
       "24773       KHETRI     403.0  JHUNJHUNU  280 00\" N  750 48\" E\n",
       "24774  UDAIPURWATI     403.0  JHUNJHUNU  270 43\" N  750 29\" E\n",
       "\n",
       "[2419 rows x 5 columns]"
      ]
     },
     "execution_count": 107,
     "metadata": {},
     "output_type": "execute_result"
    }
   ],
   "source": [
    "cor = cor.dropna()\n",
    "cor"
   ]
  },
  {
   "cell_type": "code",
   "execution_count": 118,
   "metadata": {},
   "outputs": [],
   "source": [
    "latitude = []\n",
    "longitude = []\n",
    "for i in range(len(cor[\"lat\"])):\n",
    "    s1 = cor.iloc[i].lat[:-3]\n",
    "    s1 = s1[:2]+\".\"+s1[2:3]+s1[4:]\n",
    "    s2 = cor.iloc[i].lon[:-3]\n",
    "    s2 = s2[:2]+\".\"+s2[2:3]+s2[4:]\n",
    "    try:\n",
    "        if(float(s1)<23):\n",
    "            continue\n",
    "        if(30<float(s1)<31):\n",
    "            continue\n",
    "        if(25.8<float(s1)<26.2 and 69.9<float(s2)<70.1):\n",
    "            continue\n",
    "        if(float(s1)<24.1 and float(s2)<71.1):\n",
    "            continue\n",
    "        if(float(s1)<24.1 and float(s2)<72.078):\n",
    "            continue\n",
    "        if(float(s1)<23.1 and float(s2)<73.17):\n",
    "            continue\n",
    "        if(float(s1)<24.25 and float(s2)<73.24):\n",
    "            continue\n",
    "        if(float(s1)<23.16 and float(s2)<74.3):\n",
    "            continue\n",
    "        if(float(s1)<24.2 and float(s2)<75.3):\n",
    "            continue\n",
    "        if(float(s1)<24.06 and float(s2)<76.06):\n",
    "            continue\n",
    "        if(float(s1)<25.07 and float(s2)<77.09):\n",
    "            continue\n",
    "        if(float(s1)<26.1 and float(s2)>76.75):\n",
    "            continue\n",
    "        if(float(s1)>27.81 and 75.96<float(s2)<76.2):\n",
    "            continue\n",
    "        latitude.append(float(s1))\n",
    "        longitude.append(float(s2))\n",
    "    except: continue"
   ]
  },
  {
   "cell_type": "code",
   "execution_count": null,
   "metadata": {},
   "outputs": [],
   "source": []
  },
  {
   "cell_type": "code",
   "execution_count": 119,
   "metadata": {},
   "outputs": [],
   "source": [
    "lat_long = set([(latitude[i], longitude[i]) for i in range(len(latitude))])\n",
    "import gmplot\n",
    "  \n",
    "latitude_list = []\n",
    "longitude_list = []\n",
    "for i in lat_long:\n",
    "    latitude_list.append(i[0])\n",
    "    longitude_list.append(i[1])\n",
    "  \n",
    "gmap3 = gmplot.GoogleMapPlotter(26.9124,\n",
    "                                75.7873, 13)\n",
    "  \n",
    "# scatter method of map object \n",
    "# scatter points on the google map\n",
    "gmap3.scatter( latitude_list, longitude_list, '# FF0000',\n",
    "                              size = 40, marker = False )\n",
    "  \n",
    "# Plot method Draw a line in\n",
    "# between given coordinates\n",
    "gmap3.plot(latitude_list, longitude_list, \n",
    "           'cornflowerblue', edge_width = 2.5)\n",
    "  \n",
    "gmap3.draw( \"C:\\\\Users\\\\avnis\\\\Desktop\\\\map14.html\" )"
   ]
  },
  {
   "cell_type": "code",
   "execution_count": 117,
   "metadata": {},
   "outputs": [
    {
     "data": {
      "text/plain": [
       "250"
      ]
     },
     "execution_count": 117,
     "metadata": {},
     "output_type": "execute_result"
    }
   ],
   "source": [
    "len(latitude_list)"
   ]
  },
  {
   "cell_type": "code",
   "execution_count": 111,
   "metadata": {},
   "outputs": [
    {
     "data": {
      "text/plain": [
       "1002"
      ]
     },
     "execution_count": 111,
     "metadata": {},
     "output_type": "execute_result"
    }
   ],
   "source": [
    "len(cor[\"station\"].unique())"
   ]
  },
  {
   "cell_type": "code",
   "execution_count": 91,
   "metadata": {},
   "outputs": [],
   "source": [
    "latitude_list = [i for i in cor[\"lon\"]]"
   ]
  },
  {
   "cell_type": "code",
   "execution_count": 92,
   "metadata": {},
   "outputs": [
    {
     "data": {
      "text/plain": [
       "(29.057, 25.07)"
      ]
     },
     "execution_count": 92,
     "metadata": {},
     "output_type": "execute_result"
    }
   ],
   "source": [
    "max(latitude), min(latitude)"
   ]
  },
  {
   "cell_type": "code",
   "execution_count": 93,
   "metadata": {},
   "outputs": [
    {
     "data": {
      "text/plain": [
       "27.321560344827585"
      ]
     },
     "execution_count": 93,
     "metadata": {},
     "output_type": "execute_result"
    }
   ],
   "source": [
    "from statistics import mean\n",
    "mean(latitude)"
   ]
  },
  {
   "cell_type": "code",
   "execution_count": 94,
   "metadata": {},
   "outputs": [
    {
     "data": {
      "text/plain": [
       "70.03"
      ]
     },
     "execution_count": 94,
     "metadata": {},
     "output_type": "execute_result"
    }
   ],
   "source": [
    "min(longitude)"
   ]
  },
  {
   "cell_type": "code",
   "execution_count": 95,
   "metadata": {},
   "outputs": [
    {
     "data": {
      "text/plain": [
       "74.51657758620689"
      ]
     },
     "execution_count": 95,
     "metadata": {},
     "output_type": "execute_result"
    }
   ],
   "source": [
    "mean(longitude)"
   ]
  },
  {
   "cell_type": "code",
   "execution_count": 96,
   "metadata": {},
   "outputs": [
    {
     "data": {
      "text/plain": [
       "1044"
      ]
     },
     "execution_count": 96,
     "metadata": {},
     "output_type": "execute_result"
    }
   ],
   "source": [
    "len(latitude)"
   ]
  },
  {
   "cell_type": "code",
   "execution_count": 97,
   "metadata": {},
   "outputs": [
    {
     "data": {
      "text/plain": [
       "1044"
      ]
     },
     "execution_count": 97,
     "metadata": {},
     "output_type": "execute_result"
    }
   ],
   "source": [
    "len(longitude)"
   ]
  },
  {
   "cell_type": "code",
   "execution_count": 115,
   "metadata": {},
   "outputs": [
    {
     "data": {
      "text/plain": [
       "125"
      ]
     },
     "execution_count": 115,
     "metadata": {},
     "output_type": "execute_result"
    }
   ],
   "source": [
    "len(set(latitude))"
   ]
  },
  {
   "cell_type": "code",
   "execution_count": null,
   "metadata": {},
   "outputs": [],
   "source": []
  },
  {
   "cell_type": "code",
   "execution_count": null,
   "metadata": {},
   "outputs": [],
   "source": []
  }
 ],
 "metadata": {
  "kernelspec": {
   "display_name": "Python 3",
   "language": "python",
   "name": "python3"
  },
  "language_info": {
   "codemirror_mode": {
    "name": "ipython",
    "version": 3
   },
   "file_extension": ".py",
   "mimetype": "text/x-python",
   "name": "python",
   "nbconvert_exporter": "python",
   "pygments_lexer": "ipython3",
   "version": "3.8.5"
  }
 },
 "nbformat": 4,
 "nbformat_minor": 4
}
